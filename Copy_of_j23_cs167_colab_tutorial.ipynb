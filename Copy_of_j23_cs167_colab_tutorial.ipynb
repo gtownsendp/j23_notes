{
  "nbformat": 4,
  "nbformat_minor": 0,
  "metadata": {
    "colab": {
      "provenance": [],
      "authorship_tag": "ABX9TyOGbI0L/j/9rQ3ih30tyRNw",
      "include_colab_link": true
    },
    "kernelspec": {
      "name": "python3",
      "display_name": "Python 3"
    },
    "language_info": {
      "name": "python"
    }
  },
  "cells": [
    {
      "cell_type": "markdown",
      "metadata": {
        "id": "view-in-github",
        "colab_type": "text"
      },
      "source": [
        "<a href=\"https://colab.research.google.com/github/gtownsendp/j23_notes/blob/main/Copy_of_j23_cs167_colab_tutorial.ipynb\" target=\"_parent\"><img src=\"https://colab.research.google.com/assets/colab-badge.svg\" alt=\"Open In Colab\"/></a>"
      ]
    },
    {
      "cell_type": "markdown",
      "source": [
        "# Colab Tutorial \n",
        "Jan 3rd, 2023\n",
        "- Short cut: shift + return \n",
        "- ; will not print last line\n",
        "- do not need to include print to print \n",
        "Markdown Basics:\n",
        "- **bold text**, also __Bold text__\n",
        "- *italicized*, _italics_\n",
        "- [link](www.google.com)\n",
        "  - level of indent \n",
        "- `typewriter text`\n",
        "---\n",
        "use markdown table generator to create table \n",
        "  - [table generator](https://www.tablesgenerator.com/markdown_tables)\n",
        "\n",
        "  \n",
        "\n",
        "\n",
        "\n"
      ],
      "metadata": {
        "id": "FSEgDYOkiOG2"
      }
    },
    {
      "cell_type": "markdown",
      "source": [],
      "metadata": {
        "id": "WY-xmxyNiPxY"
      }
    },
    {
      "cell_type": "code",
      "source": [],
      "metadata": {
        "id": "qzrZccmJiQRr"
      },
      "execution_count": null,
      "outputs": []
    }
  ]
}